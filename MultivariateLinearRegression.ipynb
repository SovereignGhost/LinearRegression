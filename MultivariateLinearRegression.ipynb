{
 "cells": [
  {
   "cell_type": "code",
   "execution_count": 1,
   "metadata": {},
   "outputs": [],
   "source": [
    "import numpy as np\n",
    "import pandas as pd\n",
    "import matplotlib.pyplot as plt"
   ]
  },
  {
   "cell_type": "code",
   "execution_count": 36,
   "metadata": {},
   "outputs": [
    {
     "name": "stdout",
     "output_type": "stream",
     "text": [
      "   Size  Bedrooms   Price\n",
      "0  2104         3  399900\n",
      "1  1600         3  329900\n",
      "2  2400         3  369000\n",
      "3  1416         2  232000\n",
      "4  3000         4  539900\n",
      "5  1985         4  299900\n",
      "6  1534         3  314900\n",
      "7  1427         3  198999\n",
      "8  1380         3  212000\n",
      "9  1494         3  242500\n"
     ]
    }
   ],
   "source": [
    "#Get training data\n",
    "dataframe = pd.read_csv(\"ex1data2.txt\", header = None)\n",
    "dataframe.columns = ['Size', 'Bedrooms', 'Price']\n",
    "print(dataframe.head(10))"
   ]
  },
  {
   "cell_type": "code",
   "execution_count": 21,
   "metadata": {},
   "outputs": [],
   "source": [
    "#Convert training data to np arrays\n",
    "x = dataframe[['Size', 'Bedrooms']].to_numpy()\n",
    "y = dataframe['Price'].to_numpy()\n",
    "\n",
    "#Feature Normalization\n",
    "mean = np.mean(x,axis=0)\n",
    "std = np.std(x,axis=0)\n",
    "x = (x - mean)/std\n",
    "\n",
    "#Adding ones in front for convenience later when calculating bias weight\n",
    "a = np.ones((x.shape[0],1),dtype=np.int64)\n",
    "X = np.hstack((a,x))\n",
    "\n",
    "Y = y.reshape(y.shape[0],1)\n",
    "\n",
    "\n"
   ]
  },
  {
   "cell_type": "code",
   "execution_count": 4,
   "metadata": {},
   "outputs": [],
   "source": [
    "#Cost function\n",
    "def computecost(x,y,theta):\n",
    "    m = x.shape[0]\n",
    "    a = 1/(2*m)\n",
    "    #@ is a numpy operator for matrix multiplication\n",
    "    #theta is broadcasted to X due to dimension difference\n",
    "    b = np.sum(((x@theta)-y)**2)\n",
    "    j = (a)*(b)\n",
    "    return j\n",
    "\n",
    "#gradient descent function\n",
    "def gradientdescent(x,y,theta, alpha, EPOCHS):\n",
    "    m = len(x)\n",
    "    #h = np.dot(x,theta)\n",
    "    #error = h-y\n",
    "    #print(h.shape)\n",
    "    #print(y.shape)\n",
    "    #print(error.shape)\n",
    "    #print(x.shape)\n",
    "    costlist = []\n",
    "    for iter in range(EPOCHS):\n",
    "        h = np.dot(x,theta)\n",
    "        error = h-y\n",
    "        theta = theta - (alpha/m)*np.dot(x.transpose(),error)\n",
    "        costlist.append(computecost(x,y,theta))\n",
    "    return theta, costlist"
   ]
  },
  {
   "cell_type": "code",
   "execution_count": 5,
   "metadata": {},
   "outputs": [
    {
     "name": "stdout",
     "output_type": "stream",
     "text": [
      "65591548106.45744\n",
      "(47, 1)\n",
      "(47, 1)\n",
      "(47, 1)\n",
      "(47, 3)\n",
      "2043280050.6267667\n"
     ]
    },
    {
     "data": {
      "text/plain": [
       "Text(0.5, 1.0, 'Cost Analysis')"
      ]
     },
     "execution_count": 5,
     "metadata": {},
     "output_type": "execute_result"
    },
    {
     "data": {
      "image/png": "[encoded data removed]",
      "text/plain": [
       "<Figure size 432x288 with 1 Axes>"
      ]
     },
     "metadata": {
      "needs_background": "light"
     },
     "output_type": "display_data"
    }
   ],
   "source": [
    "#Initialize Parameters\n",
    "EPOCHS = 50\n",
    "alpha = 0.5\n",
    "theta = np.zeros([3,1])\n",
    "print(computecost(X,Y,theta))\n",
    "\n",
    "theta, J  = gradientdescent(X,Y,theta,alpha,EPOCHS)\n",
    "print(computecost(X,Y,theta))\n",
    "plt.plot(list(range(EPOCHS)),J,'-')\n",
    "plt.xlabel(\"Iterations\")\n",
    "plt.ylabel(\"Cost\")\n",
    "plt.title(\"Cost Analysis\")"
   ]
  },
  {
   "cell_type": "code",
   "execution_count": 35,
   "metadata": {},
   "outputs": [
    {
     "name": "stdout",
     "output_type": "stream",
     "text": [
      "[[293081.51563573]]\n"
     ]
    }
   ],
   "source": [
    "def predict(x,theta,mean,std):\n",
    "    X = np.array(x)\n",
    "    X = (X-mean)/std\n",
    "    X = X.reshape((1,2))\n",
    "    a = np.ones((1,1))\n",
    "    X = np.hstack((a,X))\n",
    "    prediction = np.dot(X,theta)\n",
    "    return prediction\n",
    "\n",
    "\n",
    "\n",
    "print(predict([1650,3],theta,mean,std))"
   ]
  }
 ],
 "metadata": {
  "kernelspec": {
   "display_name": "Python 3",
   "language": "python",
   "name": "python3"
  },
  "language_info": {
   "codemirror_mode": {
    "name": "ipython",
    "version": 3
   },
   "file_extension": ".py",
   "mimetype": "text/x-python",
   "name": "python",
   "nbconvert_exporter": "python",
   "pygments_lexer": "ipython3",
   "version": "3.8.5"
  }
 },
 "nbformat": 4,
 "nbformat_minor": 4
}
